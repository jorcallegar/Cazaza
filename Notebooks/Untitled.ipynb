{
 "cells": [
  {
   "cell_type": "markdown",
   "id": "39129ade",
   "metadata": {},
   "source": [
    "### Descubrimiento"
   ]
  },
  {
   "cell_type": "markdown",
   "id": "bd4b2eff",
   "metadata": {},
   "source": [
    "Convertir eventos a CSV"
   ]
  },
  {
   "cell_type": "code",
   "execution_count": 7,
   "id": "1bf62ef5",
   "metadata": {},
   "outputs": [
    {
     "data": {
      "text/plain": [
       "b'Hola\\r\\n'"
      ]
     },
     "execution_count": 7,
     "metadata": {},
     "output_type": "execute_result"
    }
   ],
   "source": [
    "from subprocess import check_output\n",
    "check_output(\"python test.py\", shell=True)"
   ]
  },
  {
   "cell_type": "code",
   "execution_count": null,
   "id": "7c7b8308",
   "metadata": {},
   "outputs": [],
   "source": []
  }
 ],
 "metadata": {
  "kernelspec": {
   "display_name": "Python 3",
   "language": "python",
   "name": "python3"
  },
  "language_info": {
   "codemirror_mode": {
    "name": "ipython",
    "version": 3
   },
   "file_extension": ".py",
   "mimetype": "text/x-python",
   "name": "python",
   "nbconvert_exporter": "python",
   "pygments_lexer": "ipython3",
   "version": "3.8.8"
  }
 },
 "nbformat": 4,
 "nbformat_minor": 5
}
